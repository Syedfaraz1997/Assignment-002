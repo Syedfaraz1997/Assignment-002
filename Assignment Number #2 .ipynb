{
 "cells": [
  {
   "cell_type": "code",
   "execution_count": 1,
   "metadata": {},
   "outputs": [
    {
     "name": "stdout",
     "output_type": "stream",
     "text": [
      "Please enter your Number: 23\n",
      "Please enter your Number: 43\n",
      "66\n"
     ]
    }
   ],
   "source": [
    "x = int (input(\"Please enter your Number: \"));\n",
    "y = int (input(\"Please enter your Number: \"));\n",
    "z = x + y ;\n",
    "print(z);\n"
   ]
  },
  {
   "cell_type": "code",
   "execution_count": 5,
   "metadata": {},
   "outputs": [
    {
     "name": "stdout",
     "output_type": "stream",
     "text": [
      "Please Enter Your Math Number : 78\n",
      "Please Enter Your Physics Number : 89\n",
      "Please Enter Your Chemistry Number : 70\n",
      "Please Enter Your English Number : 65\n",
      "Please Enter Your Urdu Number : 70\n",
      "Grade A+\n"
     ]
    }
   ],
   "source": [
    "Maths = float(input(\"Please Enter Your Math Number : \"));\n",
    "Physics = float(input(\"Please Enter Your Physics Number : \"));\n",
    "Chemistry = float(input(\"Please Enter Your Chemistry Number : \"));\n",
    "English = float(input(\"Please Enter Your English Number : \"));\n",
    "Urdu = float(input(\"Please Enter Your Urdu Number : \"));\n",
    "\n",
    "total = Maths + Physics + Chemistry + English + Urdu ;\n",
    "\n",
    "\n",
    "per = 500/total * 100\n",
    "    \n",
    "if per >= 80 :\n",
    "    print(\"Grade A+\");\n",
    "elif per >= 70 and per<= 80 :\n",
    "    print(\"Grade A\");\n",
    "elif per >= 60 and per <= 70 :\n",
    "    print(\"Grade B\");\n",
    "elif per >= 50 and  per<= 60 :\n",
    "    print(\"Grade C\");\n",
    "elif per >= 40 and per <= 50 :\n",
    "    print(\"Grade D\");\n",
    "else :\n",
    "    print(\"Failed\");"
   ]
  },
  {
   "cell_type": "code",
   "execution_count": 8,
   "metadata": {},
   "outputs": [
    {
     "name": "stdout",
     "output_type": "stream",
     "text": [
      "Please Enter Your Number :45\n",
      "Your Number is Odd :\n"
     ]
    }
   ],
   "source": [
    "Number = int(input(\"Please Enter Your Number :\"));\n",
    "\n",
    "if (Number%2)==0 :\n",
    "    print(\"Your Number is Even: \");\n",
    "else :\n",
    "    print(\"Your Number is Odd :\");"
   ]
  },
  {
   "cell_type": "code",
   "execution_count": 10,
   "metadata": {},
   "outputs": [
    {
     "data": {
      "text/plain": [
       "7"
      ]
     },
     "execution_count": 10,
     "metadata": {},
     "output_type": "execute_result"
    }
   ],
   "source": [
    "cites = [\"Karachi\",\"Lahore\",\"Hydrabad\",\"Islamabad\",\"Rawalpandi\",\"Peshawar\",\"Behria Town\"];\n",
    "len(cites)"
   ]
  },
  {
   "cell_type": "code",
   "execution_count": 9,
   "metadata": {
    "scrolled": true
   },
   "outputs": [
    {
     "name": "stdout",
     "output_type": "stream",
     "text": [
      "56\n"
     ]
    }
   ],
   "source": [
    "Number = [3, 4 , 9 , 8 , -9 , 12 , 18 , 11];\n",
    "Total = sum(Number)\n",
    "print(Total);\n"
   ]
  },
  {
   "cell_type": "code",
   "execution_count": 11,
   "metadata": {},
   "outputs": [
    {
     "name": "stdout",
     "output_type": "stream",
     "text": [
      "18\n"
     ]
    }
   ],
   "source": [
    "Number = [3, 4 , 9 , 8 , -56 , 12 , 18 , 11];\n",
    "maxvalue = max(Number);\n",
    "print(maxvalue);"
   ]
  },
  {
   "cell_type": "code",
   "execution_count": 12,
   "metadata": {},
   "outputs": [
    {
     "name": "stdout",
     "output_type": "stream",
     "text": [
      "[1, 2, 3, 5, 8, 13, 21, 34, 55, 89]\n"
     ]
    }
   ],
   "source": [
    "a = [1, 2 , 3 , 5 , 8 , 13 , 21 , 34 , 55 , 89];\n",
    "print(a);\n"
   ]
  },
  {
   "cell_type": "code",
   "execution_count": 13,
   "metadata": {},
   "outputs": [
    {
     "name": "stdout",
     "output_type": "stream",
     "text": [
      "[1, 2, 3]\n"
     ]
    }
   ],
   "source": [
    "b = a[:3];\n",
    "print(b);"
   ]
  }
 ],
 "metadata": {
  "kernelspec": {
   "display_name": "Python 3",
   "language": "python",
   "name": "python3"
  },
  "language_info": {
   "codemirror_mode": {
    "name": "ipython",
    "version": 3
   },
   "file_extension": ".py",
   "mimetype": "text/x-python",
   "name": "python",
   "nbconvert_exporter": "python",
   "pygments_lexer": "ipython3",
   "version": "3.7.4"
  }
 },
 "nbformat": 4,
 "nbformat_minor": 2
}
